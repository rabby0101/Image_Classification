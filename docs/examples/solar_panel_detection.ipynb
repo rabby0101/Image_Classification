{
  "cells": [
    {
      "cell_type": "markdown",
      "metadata": {
        "id": "NY-q77Wz4mz1"
      },
      "source": [
        "# Solar Panel Detection\n",
        "\n",
        "This notebook demonstrates how to use the geoai package for solar panel detection using a pre-trained model.\n",
        "\n",
        "[![image](https://colab.research.google.com/assets/colab-badge.svg)](https://colab.research.google.com/github/opengeos/geoai/blob/main/docs/examples/solar_panel_detection.ipynb)\n",
        "\n",
        "## Install package\n",
        "To use the `geoai-py` package, ensure it is installed in your environment. Uncomment the command below if needed."
      ]
    },
    {
      "cell_type": "code",
      "execution_count": null,
      "metadata": {
        "id": "dCBOxqZe4mz2"
      },
      "outputs": [],
      "source": [
        "# %pip install geoai-py"
      ]
    },
    {
      "cell_type": "markdown",
      "metadata": {
        "id": "AjvATDka4mz3"
      },
      "source": [
        "## Import libraries"
      ]
    },
    {
      "cell_type": "code",
      "execution_count": 2,
      "metadata": {
        "id": "d17nDAdN4mz3",
        "outputId": "f1575d21-bff8-4582-8fc1-0195e69eabd5",
        "colab": {
          "base_uri": "https://localhost:8080/",
          "height": 322
        }
      },
      "outputs": [
        {
          "output_type": "error",
          "ename": "ModuleNotFoundError",
          "evalue": "No module named 'geoai'",
          "traceback": [
            "\u001b[0;31m---------------------------------------------------------------------------\u001b[0m",
            "\u001b[0;31mModuleNotFoundError\u001b[0m                       Traceback (most recent call last)",
            "\u001b[0;32m<ipython-input-2-0f412727a437>\u001b[0m in \u001b[0;36m<cell line: 0>\u001b[0;34m()\u001b[0m\n\u001b[0;32m----> 1\u001b[0;31m \u001b[0;32mimport\u001b[0m \u001b[0mgeoai\u001b[0m\u001b[0;34m\u001b[0m\u001b[0;34m\u001b[0m\u001b[0m\n\u001b[0m",
            "\u001b[0;31mModuleNotFoundError\u001b[0m: No module named 'geoai'",
            "",
            "\u001b[0;31m---------------------------------------------------------------------------\u001b[0;32m\nNOTE: If your import is failing due to a missing package, you can\nmanually install dependencies using either !pip or !apt.\n\nTo view examples of installing some common dependencies, click the\n\"Open Examples\" button below.\n\u001b[0;31m---------------------------------------------------------------------------\u001b[0m\n"
          ],
          "errorDetails": {
            "actions": [
              {
                "action": "open_url",
                "actionText": "Open Examples",
                "url": "/notebooks/snippets/importing_libraries.ipynb"
              }
            ]
          }
        }
      ],
      "source": [
        "import geoai"
      ]
    },
    {
      "cell_type": "markdown",
      "metadata": {
        "id": "U13wDvZY4mz4"
      },
      "source": [
        "## Download sample data"
      ]
    },
    {
      "cell_type": "code",
      "execution_count": null,
      "metadata": {
        "id": "q12T2YyZ4mz4"
      },
      "outputs": [],
      "source": [
        "raster_url = \"https://huggingface.co/datasets/giswqs/geospatial/resolve/main/solar_panels_davis_ca.tif\"\n",
        "raster_path = geoai.download_file(raster_url)"
      ]
    },
    {
      "cell_type": "code",
      "execution_count": null,
      "metadata": {
        "id": "veIge2uH4mz5"
      },
      "outputs": [],
      "source": [
        "geoai.print_raster_info(raster_path)"
      ]
    },
    {
      "cell_type": "markdown",
      "metadata": {
        "id": "PIg2hViK4mz5"
      },
      "source": [
        "## Visualize data"
      ]
    },
    {
      "cell_type": "code",
      "execution_count": null,
      "metadata": {
        "id": "KeWjMt7G4mz5"
      },
      "outputs": [],
      "source": [
        "geoai.view_raster(raster_url)"
      ]
    },
    {
      "cell_type": "markdown",
      "metadata": {
        "id": "58q_MWA64mz6"
      },
      "source": [
        "## Initialize model"
      ]
    },
    {
      "cell_type": "code",
      "execution_count": null,
      "metadata": {
        "id": "4iBWRhL94mz6"
      },
      "outputs": [],
      "source": [
        "detector = geoai.SolarPanelDetector()"
      ]
    },
    {
      "cell_type": "markdown",
      "metadata": {
        "id": "ywR7qOiu4mz6"
      },
      "source": [
        "## Generate masks"
      ]
    },
    {
      "cell_type": "code",
      "execution_count": null,
      "metadata": {
        "id": "uEgfwHM14mz6"
      },
      "outputs": [],
      "source": [
        "output_path = \"solar_panel_masks.tif\""
      ]
    },
    {
      "cell_type": "code",
      "execution_count": null,
      "metadata": {
        "id": "hwLhLEcm4mz7"
      },
      "outputs": [],
      "source": [
        "masks_path = detector.generate_masks(\n",
        "    raster_path,\n",
        "    output_path=output_path,\n",
        "    confidence_threshold=0.4,\n",
        "    mask_threshold=0.5,\n",
        "    min_object_area=100,\n",
        "    overlap=0.25,\n",
        "    chip_size=(400, 400),\n",
        "    batch_size=4,\n",
        "    verbose=False,\n",
        ")"
      ]
    },
    {
      "cell_type": "markdown",
      "metadata": {
        "id": "LixlyRLa4mz7"
      },
      "source": [
        "## Visualize masks"
      ]
    },
    {
      "cell_type": "code",
      "execution_count": null,
      "metadata": {
        "id": "4R5-8FM74mz7"
      },
      "outputs": [],
      "source": [
        "geoai.view_raster(\n",
        "    output_path,\n",
        "    indexes=[2],\n",
        "    colormap=\"autumn\",\n",
        "    layer_name=\"Solar Panels\",\n",
        "    basemap=raster_url,\n",
        ")"
      ]
    },
    {
      "cell_type": "markdown",
      "metadata": {
        "id": "rmDUyxMl4mz7"
      },
      "source": [
        "## Vectorize masks"
      ]
    },
    {
      "cell_type": "code",
      "execution_count": null,
      "metadata": {
        "id": "RhgSDjEw4mz7"
      },
      "outputs": [],
      "source": [
        "gdf = geoai.orthogonalize(\n",
        "    input_path=masks_path, output_path=\"solar_panel_masks.geojson\", epsilon=0.2\n",
        ")"
      ]
    },
    {
      "cell_type": "markdown",
      "metadata": {
        "id": "qsPPSCGj4mz8"
      },
      "source": [
        "## Visualize initial results"
      ]
    },
    {
      "cell_type": "code",
      "execution_count": null,
      "metadata": {
        "id": "ISLeuGo34mz8"
      },
      "outputs": [],
      "source": [
        "geoai.view_vector_interactive(gdf, tiles=raster_url)"
      ]
    },
    {
      "cell_type": "markdown",
      "metadata": {
        "id": "mnQDwPFV4mz8"
      },
      "source": [
        "## Calculate geometric properties"
      ]
    },
    {
      "cell_type": "code",
      "execution_count": null,
      "metadata": {
        "id": "FycPBjae4mz8"
      },
      "outputs": [],
      "source": [
        "gdf = geoai.add_geometric_properties(gdf)\n",
        "gdf.head()"
      ]
    },
    {
      "cell_type": "code",
      "execution_count": null,
      "metadata": {
        "id": "rziUks-_4mz8"
      },
      "outputs": [],
      "source": [
        "print(len(gdf))"
      ]
    },
    {
      "cell_type": "code",
      "execution_count": null,
      "metadata": {
        "id": "yoTWKIw74mz8"
      },
      "outputs": [],
      "source": [
        "geoai.view_vector_interactive(gdf, column=\"elongation\", tiles=raster_url)"
      ]
    },
    {
      "cell_type": "markdown",
      "metadata": {
        "id": "9FFfKPVZ4mz8"
      },
      "source": [
        "## Filter results"
      ]
    },
    {
      "cell_type": "code",
      "execution_count": null,
      "metadata": {
        "id": "dWEx8JhX4mz8"
      },
      "outputs": [],
      "source": [
        "gdf_filter = gdf[(gdf[\"elongation\"] < 10) & (gdf[\"area_m2\"] > 5)]\n",
        "print(len(gdf_filter))"
      ]
    },
    {
      "cell_type": "markdown",
      "metadata": {
        "id": "EcZdUh5F4mz9"
      },
      "source": [
        "## Visualize final results"
      ]
    },
    {
      "cell_type": "code",
      "execution_count": null,
      "metadata": {
        "id": "yjUMh-hJ4mz9"
      },
      "outputs": [],
      "source": [
        "geoai.view_vector_interactive(gdf_filter, column=\"area_m2\", tiles=raster_url)"
      ]
    },
    {
      "cell_type": "code",
      "execution_count": null,
      "metadata": {
        "id": "bVQ4XxiW4mz9"
      },
      "outputs": [],
      "source": [
        "geoai.view_vector_interactive(\n",
        "    gdf_filter, style_kwds={\"color\": \"red\", \"fillOpacity\": 0}, tiles=raster_url\n",
        ")"
      ]
    },
    {
      "cell_type": "code",
      "execution_count": null,
      "metadata": {
        "id": "tb_c__dl4mz9"
      },
      "outputs": [],
      "source": [
        "gdf_filter[\"area_m2\"].hist()"
      ]
    },
    {
      "cell_type": "code",
      "execution_count": null,
      "metadata": {
        "id": "Y1wKBjtD4mz9"
      },
      "outputs": [],
      "source": [
        "gdf_filter[\"area_m2\"].describe()"
      ]
    },
    {
      "cell_type": "code",
      "execution_count": null,
      "metadata": {
        "id": "bDJNSMOc4mz9"
      },
      "outputs": [],
      "source": [
        "gdf_filter[\"area_m2\"].sum()"
      ]
    },
    {
      "cell_type": "markdown",
      "metadata": {
        "id": "UvhuXZ5n4mz9"
      },
      "source": [
        "## Save results"
      ]
    },
    {
      "cell_type": "code",
      "execution_count": null,
      "metadata": {
        "id": "E_TTwzHU4mz9"
      },
      "outputs": [],
      "source": [
        "gdf_filter.to_file(\"solar_panels.geojson\")"
      ]
    },
    {
      "cell_type": "markdown",
      "metadata": {
        "id": "wOz-NZP24mz-"
      },
      "source": [
        "![image](https://github.com/user-attachments/assets/a38925dc-b840-42b0-a926-326ef99b181c)"
      ]
    }
  ],
  "metadata": {
    "kernelspec": {
      "display_name": "geo",
      "language": "python",
      "name": "python3"
    },
    "language_info": {
      "codemirror_mode": {
        "name": "ipython",
        "version": 3
      },
      "file_extension": ".py",
      "mimetype": "text/x-python",
      "name": "python",
      "nbconvert_exporter": "python",
      "pygments_lexer": "ipython3",
      "version": "3.12.9"
    },
    "colab": {
      "provenance": []
    }
  },
  "nbformat": 4,
  "nbformat_minor": 0
}